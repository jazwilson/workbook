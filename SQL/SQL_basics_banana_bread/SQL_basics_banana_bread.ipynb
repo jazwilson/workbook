{
 "cells": [
  {
   "cell_type": "code",
   "execution_count": null,
   "id": "d46b14fb",
   "metadata": {},
   "outputs": [],
   "source": [
    "# !pip install ipython-sql"
   ]
  },
  {
   "cell_type": "code",
   "execution_count": 14,
   "id": "d02c129e",
   "metadata": {},
   "outputs": [],
   "source": [
    "import sqlite3\n",
    "\n",
    "connection = sqlite3.connect(\"banana_bread.db\")"
   ]
  },
  {
   "cell_type": "code",
   "execution_count": 15,
   "id": "e0d83e2d",
   "metadata": {},
   "outputs": [
    {
     "name": "stdout",
     "output_type": "stream",
     "text": [
      "0\n"
     ]
    }
   ],
   "source": [
    "print(connection.total_changes)"
   ]
  },
  {
   "cell_type": "code",
   "execution_count": 16,
   "id": "2ae7566b",
   "metadata": {},
   "outputs": [
    {
     "data": {
      "text/plain": [
       "<sqlite3.Cursor at 0x7ff990884730>"
      ]
     },
     "execution_count": 16,
     "metadata": {},
     "output_type": "execute_result"
    }
   ],
   "source": [
    "cursor = connection.cursor()\n",
    "cursor.execute(\"CREATE TABLE banana_bread (ingredients TEXT, description TEXT, number INTEGER, grams NUMERIC, teaspoon NUMERIC)\")"
   ]
  },
  {
   "cell_type": "code",
   "execution_count": 25,
   "id": "21915467",
   "metadata": {},
   "outputs": [
    {
     "data": {
      "text/plain": [
       "<sqlite3.Cursor at 0x7ff990884730>"
      ]
     },
     "execution_count": 25,
     "metadata": {},
     "output_type": "execute_result"
    }
   ],
   "source": [
    "cursor.execute(\"INSERT INTO banana_bread VALUES ('banana',           'medium',  4, 565, 0)\")\n",
    "cursor.execute(\"INSERT INTO banana_bread VALUES ('greek_yoghurt',    'plain',   0, 115, 0)\")\n",
    "cursor.execute(\"INSERT INTO banana_bread VALUES ('eggs',             'large',   2,   0, 0)\")\n",
    "cursor.execute(\"INSERT INTO banana_bread VALUES ('vanilla_extract',  'na',      0,  15, 0)\")\n",
    "cursor.execute(\"INSERT INTO banana_bread VALUES ('pepper',           'na',      0, 500, 0)\")\n",
    "cursor.execute(\"INSERT INTO banana_bread VALUES ('all_purpose_hour', 'na',      0, 280, 0)\")\n",
    "cursor.execute(\"INSERT INTO banana_bread VALUES ('sugar',            'toasted', 0,  85, 0)\")\n",
    "cursor.execute(\"INSERT INTO banana_bread VALUES ('kosher_salt',      'na',      0,   3, 0)\")\n",
    "cursor.execute(\"INSERT INTO banana_bread VALUES ('ground_cinammon',  'na',      0,   0, 0.75)\")\n",
    "cursor.execute(\"INSERT INTO banana_bread VALUES ('ground_cloves',    'na',      0,   0, 0.5)\")\n",
    "cursor.execute(\"INSERT INTO banana_bread VALUES ('ground_nutmeg',    'na',      0,   0, 0.25)\")\n",
    "cursor.execute(\"INSERT INTO banana_bread VALUES ('coconut_oil',      'na',      0, 150, 0)\")\n",
    "cursor.execute(\"INSERT INTO banana_bread VALUES ('pecan',            'na',      0, 170, 0)\")"
   ]
  },
  {
   "cell_type": "code",
   "execution_count": 18,
   "id": "f992c27c",
   "metadata": {},
   "outputs": [
    {
     "name": "stdout",
     "output_type": "stream",
     "text": [
      "[('banana',), ('greek_yoghurt',), ('eggs',), ('vanilla_extract',), ('all_purpose_hour',), ('sugar',), ('kosher_salt',), ('ground_cinammon',), ('ground_cloves',), ('ground_nutmeg',), ('coconut_oil',), ('pecan',)]\n"
     ]
    }
   ],
   "source": [
    "rows = cursor.execute(\"SELECT ingredients FROM banana_bread\").fetchall()\n",
    "print(rows)"
   ]
  },
  {
   "cell_type": "code",
   "execution_count": null,
   "id": "986960ca",
   "metadata": {},
   "outputs": [],
   "source": [
    "#Add in missing ingredients"
   ]
  },
  {
   "cell_type": "code",
   "execution_count": 19,
   "id": "5f704a8c",
   "metadata": {},
   "outputs": [
    {
     "data": {
      "text/plain": [
       "<sqlite3.Cursor at 0x7ff990884730>"
      ]
     },
     "execution_count": 19,
     "metadata": {},
     "output_type": "execute_result"
    }
   ],
   "source": [
    "cursor.execute(\"INSERT INTO banana_bread VALUES ('baking_powder',  'na',      0,   0, 1)\")\n",
    "cursor.execute(\"INSERT INTO banana_bread VALUES ('baking_soda',    'na',      0,   0, 1)\")"
   ]
  },
  {
   "cell_type": "code",
   "execution_count": 20,
   "id": "ce674532",
   "metadata": {},
   "outputs": [
    {
     "name": "stdout",
     "output_type": "stream",
     "text": [
      "[('banana',), ('greek_yoghurt',), ('eggs',), ('vanilla_extract',), ('all_purpose_hour',), ('sugar',), ('kosher_salt',), ('ground_cinammon',), ('ground_cloves',), ('ground_nutmeg',), ('coconut_oil',), ('pecan',), ('baking_powder',), ('baking_soda',)]\n"
     ]
    }
   ],
   "source": [
    "rows = cursor.execute(\"SELECT ingredients FROM banana_bread\").fetchall()\n",
    "print(rows)"
   ]
  },
  {
   "cell_type": "code",
   "execution_count": null,
   "id": "917ad965",
   "metadata": {},
   "outputs": [],
   "source": [
    "#Modify notes for pecans"
   ]
  },
  {
   "cell_type": "code",
   "execution_count": 22,
   "id": "10e163db",
   "metadata": {},
   "outputs": [
    {
     "data": {
      "text/plain": [
       "<sqlite3.Cursor at 0x7ff990884730>"
      ]
     },
     "execution_count": 22,
     "metadata": {},
     "output_type": "execute_result"
    }
   ],
   "source": [
    "new_note = 'toasted'\n",
    "ingredient_name = \"pecan\"\n",
    "cursor.execute(\n",
    "    \"UPDATE banana_bread SET description = ? WHERE ingredients = ?\",\n",
    "    (new_note, ingredient_name)\n",
    ")"
   ]
  },
  {
   "cell_type": "code",
   "execution_count": 24,
   "id": "294e2488",
   "metadata": {},
   "outputs": [
    {
     "name": "stdout",
     "output_type": "stream",
     "text": [
      "[('pecan', 'toasted', 170)]\n"
     ]
    }
   ],
   "source": [
    "check_ingredient = \"pecan\"\n",
    "rows = cursor.execute(\n",
    "    \"SELECT ingredients, description, grams FROM banana_bread WHERE ingredients = ?\",\n",
    "    (check_ingredient,),\n",
    ").fetchall()\n",
    "print(rows)"
   ]
  },
  {
   "cell_type": "code",
   "execution_count": null,
   "id": "7d16463d",
   "metadata": {},
   "outputs": [],
   "source": [
    "#Remove pepper from recipe"
   ]
  },
  {
   "cell_type": "code",
   "execution_count": 26,
   "id": "cf15fb51",
   "metadata": {},
   "outputs": [
    {
     "data": {
      "text/plain": [
       "<sqlite3.Cursor at 0x7ff990884730>"
      ]
     },
     "execution_count": 26,
     "metadata": {},
     "output_type": "execute_result"
    }
   ],
   "source": [
    "remove_ingredient = \"pepper\"\n",
    "cursor.execute(\n",
    "    \"DELETE FROM banana_bread WHERE ingredients = ?\",\n",
    "    (remove_ingredient,)\n",
    ")"
   ]
  },
  {
   "cell_type": "code",
   "execution_count": 27,
   "id": "0ca09897",
   "metadata": {},
   "outputs": [
    {
     "name": "stdout",
     "output_type": "stream",
     "text": [
      "[]\n"
     ]
    }
   ],
   "source": [
    "check_ingredient = \"pepper\"\n",
    "rows = cursor.execute(\n",
    "    \"SELECT ingredients FROM banana_bread WHERE ingredients = ?\",\n",
    "    (check_ingredient,),\n",
    ").fetchall()\n",
    "print(rows)"
   ]
  },
  {
   "cell_type": "code",
   "execution_count": 29,
   "id": "08ee0eb6",
   "metadata": {},
   "outputs": [
    {
     "name": "stdout",
     "output_type": "stream",
     "text": [
      "[('banana', 'medium', 4, 565, 0), ('greek_yoghurt', 'plain', 0, 115, 0), ('eggs', 'large', 2, 0, 0), ('vanilla_extract', 'na', 0, 15, 0), ('all_purpose_hour', 'na', 0, 280, 0), ('sugar', 'toasted', 0, 85, 0), ('kosher_salt', 'na', 0, 3, 0), ('ground_cinammon', 'na', 0, 0, 0.75), ('ground_cloves', 'na', 0, 0, 0.5), ('ground_nutmeg', 'na', 0, 0, 0.25), ('coconut_oil', 'na', 0, 150, 0), ('pecan', 'toasted', 0, 170, 0), ('baking_powder', 'na', 0, 0, 1), ('baking_soda', 'na', 0, 0, 1), ('banana', 'medium', 4, 565, 0), ('greek_yoghurt', 'plain', 0, 115, 0), ('eggs', 'large', 2, 0, 0), ('vanilla_extract', 'na', 0, 15, 0), ('all_purpose_hour', 'na', 0, 280, 0), ('sugar', 'toasted', 0, 85, 0), ('kosher_salt', 'na', 0, 3, 0), ('ground_cinammon', 'na', 0, 0, 0.75), ('ground_cloves', 'na', 0, 0, 0.5), ('ground_nutmeg', 'na', 0, 0, 0.25), ('coconut_oil', 'na', 0, 150, 0), ('pecan', 'na', 0, 170, 0)]\n"
     ]
    }
   ],
   "source": [
    "rows = cursor.execute(\"SELECT ingredients, description, number, grams, teaspoon FROM banana_bread\").fetchall()\n",
    "print(rows)"
   ]
  },
  {
   "cell_type": "code",
   "execution_count": 31,
   "id": "d2de7450",
   "metadata": {},
   "outputs": [
    {
     "name": "stdout",
     "output_type": "stream",
     "text": [
      "[(1,)]\n"
     ]
    }
   ],
   "source": [
    "from contextlib import closing\n",
    "\n",
    "with closing(sqlite3.connect(\"banana_bread.db\")) as connection:\n",
    "    with closing(connection.cursor()) as cursor:\n",
    "        rows = cursor.execute(\"SELECT 1\").fetchall()\n",
    "        print(rows)"
   ]
  }
 ],
 "metadata": {
  "kernelspec": {
   "display_name": "Python 3",
   "language": "python",
   "name": "python3"
  },
  "language_info": {
   "codemirror_mode": {
    "name": "ipython",
    "version": 3
   },
   "file_extension": ".py",
   "mimetype": "text/x-python",
   "name": "python",
   "nbconvert_exporter": "python",
   "pygments_lexer": "ipython3",
   "version": "3.9.1"
  }
 },
 "nbformat": 4,
 "nbformat_minor": 5
}
